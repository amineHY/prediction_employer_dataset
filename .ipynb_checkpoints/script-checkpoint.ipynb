{
 "cells": [
  {
   "cell_type": "markdown",
   "metadata": {
    "colab_type": "text",
    "id": "xPFBq4UtDTzj"
   },
   "source": [
    "\n",
    "## Projet data science\n",
    "\n",
    "Objectifs:\n",
    "- clustering non supervisé afin d'identifier 2 groupes de profils techniques distinctes\n",
    "- prédiction des profils dont le métier n'est pas labellisé\n",
    "\n",
    "\n",
    "## Données\n",
    "data.csv contient 6 variables : \n",
    "    - 'Entreprise' correspond à une liste d'entreprises fictive\n",
    "    - 'Metier' correspond au métier parmi data scientist, lead data scientist, data engineer et data architecte\n",
    "    - 'Technologies' correspond aux compétences maîtrisées par le profil\n",
    "    - 'Diplome' correspond à son niveau scolaire (Bac, Master, PhD,...)\n",
    "    - 'Experience' correspond au nombre d'années d'expériences\n",
    "    - 'Ville' correspond au lieu de travail\n",
    "    \n"
   ]
  },
  {
   "cell_type": "code",
   "execution_count": 2,
   "metadata": {
    "colab": {},
    "colab_type": "code",
    "id": "CxE5phyBDTzk"
   },
   "outputs": [],
   "source": [
    "# Import des libraries classique (numpy, pandas, ...)\n",
    "from __future__ import division\n",
    "import pandas as pd\n",
    "import numpy as np\n",
    "from sklearn.cluster import KMeans\n",
    "import re\n",
    "from matplotlib import pyplot as plt\n",
    "plt.style.use('ggplot')"
   ]
  },
  {
   "cell_type": "markdown",
   "metadata": {
    "colab_type": "text",
    "id": "_2h5_vAxDTzn"
   },
   "source": [
    "### 1) Importation des données dans un dataframe "
   ]
  },
  {
   "cell_type": "code",
   "execution_count": 3,
   "metadata": {
    "colab": {
     "base_uri": "https://localhost:8080/",
     "height": 893
    },
    "colab_type": "code",
    "executionInfo": {
     "elapsed": 577,
     "status": "error",
     "timestamp": 1542029619886,
     "user": {
      "displayName": "M.Amine Hadj-Youcef",
      "photoUrl": "https://lh6.googleusercontent.com/-LFxVJ_T2Nqg/AAAAAAAAAAI/AAAAAAABGG8/KockDsV4k0U/s64/photo.jpg",
      "userId": "08825330503754989272"
     },
     "user_tz": -60
    },
    "id": "VKhvzKqgDTzp",
    "outputId": "5519564a-0565-486e-ccef-25e382fd6856"
   },
   "outputs": [],
   "source": [
    "# Import du dataframe \"data.csv\"\n",
    "df = pd.read_csv('./data.csv',sep=',')\n",
    "df_orig = df"
   ]
  },
  {
   "cell_type": "code",
   "execution_count": 4,
   "metadata": {
    "colab": {},
    "colab_type": "code",
    "id": "W7xUPzNFDTzs"
   },
   "outputs": [
    {
     "name": "stdout",
     "output_type": "stream",
     "text": [
      "Cette base de données contient 9582 observations \n",
      "\n",
      "Voici le sommes des valeus manquantes par features : \n",
      "Entreprise      17\n",
      "Metier          19\n",
      "Technologies     0\n",
      "Diplome          0\n",
      "Experience      94\n",
      "Ville            0\n",
      "dtype: int64\n"
     ]
    },
    {
     "data": {
      "text/html": [
       "<div>\n",
       "<style scoped>\n",
       "    .dataframe tbody tr th:only-of-type {\n",
       "        vertical-align: middle;\n",
       "    }\n",
       "\n",
       "    .dataframe tbody tr th {\n",
       "        vertical-align: top;\n",
       "    }\n",
       "\n",
       "    .dataframe thead th {\n",
       "        text-align: right;\n",
       "    }\n",
       "</style>\n",
       "<table border=\"1\" class=\"dataframe\">\n",
       "  <thead>\n",
       "    <tr style=\"text-align: right;\">\n",
       "      <th></th>\n",
       "      <th>Entreprise</th>\n",
       "      <th>Metier</th>\n",
       "      <th>Technologies</th>\n",
       "      <th>Diplome</th>\n",
       "      <th>Experience</th>\n",
       "      <th>Ville</th>\n",
       "    </tr>\n",
       "  </thead>\n",
       "  <tbody>\n",
       "    <tr>\n",
       "      <th>0</th>\n",
       "      <td>Sanofi</td>\n",
       "      <td>Data scientist</td>\n",
       "      <td>Matlab/Python/Pyspark/Scikit-learn/Tensorflow</td>\n",
       "      <td>Master</td>\n",
       "      <td>1</td>\n",
       "      <td>Paris</td>\n",
       "    </tr>\n",
       "    <tr>\n",
       "      <th>1</th>\n",
       "      <td>Massachusetts General Hospital(MGH)</td>\n",
       "      <td>Data architecte</td>\n",
       "      <td>Python/Java/Scala/MongoDB</td>\n",
       "      <td>Master</td>\n",
       "      <td>3</td>\n",
       "      <td>Marseille</td>\n",
       "    </tr>\n",
       "    <tr>\n",
       "      <th>2</th>\n",
       "      <td>Delve</td>\n",
       "      <td>Lead data scientist</td>\n",
       "      <td>SPSS/SQL/Teradata/R/Python/Tensorflow/scikit-l...</td>\n",
       "      <td>Master</td>\n",
       "      <td>3</td>\n",
       "      <td>Nantes</td>\n",
       "    </tr>\n",
       "    <tr>\n",
       "      <th>3</th>\n",
       "      <td>Ann &amp; Robert H. Lurie Children’s Hospital of C...</td>\n",
       "      <td>Data scientist</td>\n",
       "      <td>C/C++/Java/Python</td>\n",
       "      <td>Master</td>\n",
       "      <td>1,5</td>\n",
       "      <td>Marseille</td>\n",
       "    </tr>\n",
       "    <tr>\n",
       "      <th>4</th>\n",
       "      <td>Arm</td>\n",
       "      <td>Data scientist</td>\n",
       "      <td>Matlab/Python/C++/numpy/Tensorflow/scikit-learn</td>\n",
       "      <td>Phd</td>\n",
       "      <td>NaN</td>\n",
       "      <td>Bordeaux</td>\n",
       "    </tr>\n",
       "    <tr>\n",
       "      <th>5</th>\n",
       "      <td>S&amp;P Global Ratings</td>\n",
       "      <td>Lead data scientist</td>\n",
       "      <td>VBA/Python/Excel/R</td>\n",
       "      <td>Master</td>\n",
       "      <td>6</td>\n",
       "      <td>Lille</td>\n",
       "    </tr>\n",
       "    <tr>\n",
       "      <th>6</th>\n",
       "      <td>NVIDIA</td>\n",
       "      <td>Data scientist</td>\n",
       "      <td>Excel/VBA/R/Python/PySpark</td>\n",
       "      <td>Bachelor</td>\n",
       "      <td>0</td>\n",
       "      <td>Lille</td>\n",
       "    </tr>\n",
       "    <tr>\n",
       "      <th>7</th>\n",
       "      <td>Cedars-Sinai Medical Center</td>\n",
       "      <td>Data scientist</td>\n",
       "      <td>Java/C/C++/R/Python</td>\n",
       "      <td>Bachelor</td>\n",
       "      <td>4</td>\n",
       "      <td>Toulouse</td>\n",
       "    </tr>\n",
       "    <tr>\n",
       "      <th>8</th>\n",
       "      <td>Fibroblast</td>\n",
       "      <td>Data architecte</td>\n",
       "      <td>Java/Linux/Docker</td>\n",
       "      <td>Bachelor</td>\n",
       "      <td>8</td>\n",
       "      <td>Paris</td>\n",
       "    </tr>\n",
       "    <tr>\n",
       "      <th>9</th>\n",
       "      <td>General Motors</td>\n",
       "      <td>Data engineer</td>\n",
       "      <td>Python/Java/Linux/GNU</td>\n",
       "      <td>Master</td>\n",
       "      <td>5</td>\n",
       "      <td>Toulouse</td>\n",
       "    </tr>\n",
       "  </tbody>\n",
       "</table>\n",
       "</div>"
      ],
      "text/plain": [
       "                                          Entreprise               Metier  \\\n",
       "0                                             Sanofi       Data scientist   \n",
       "1                Massachusetts General Hospital(MGH)      Data architecte   \n",
       "2                                              Delve  Lead data scientist   \n",
       "3  Ann & Robert H. Lurie Children’s Hospital of C...       Data scientist   \n",
       "4                                                Arm       Data scientist   \n",
       "5                                 S&P Global Ratings  Lead data scientist   \n",
       "6                                             NVIDIA       Data scientist   \n",
       "7                        Cedars-Sinai Medical Center       Data scientist   \n",
       "8                                         Fibroblast      Data architecte   \n",
       "9                                     General Motors        Data engineer   \n",
       "\n",
       "                                        Technologies   Diplome Experience  \\\n",
       "0      Matlab/Python/Pyspark/Scikit-learn/Tensorflow    Master          1   \n",
       "1                          Python/Java/Scala/MongoDB    Master          3   \n",
       "2  SPSS/SQL/Teradata/R/Python/Tensorflow/scikit-l...    Master          3   \n",
       "3                                  C/C++/Java/Python    Master        1,5   \n",
       "4    Matlab/Python/C++/numpy/Tensorflow/scikit-learn       Phd        NaN   \n",
       "5                                 VBA/Python/Excel/R    Master          6   \n",
       "6                         Excel/VBA/R/Python/PySpark  Bachelor          0   \n",
       "7                                Java/C/C++/R/Python  Bachelor          4   \n",
       "8                                  Java/Linux/Docker  Bachelor          8   \n",
       "9                              Python/Java/Linux/GNU    Master          5   \n",
       "\n",
       "       Ville  \n",
       "0      Paris  \n",
       "1  Marseille  \n",
       "2     Nantes  \n",
       "3  Marseille  \n",
       "4   Bordeaux  \n",
       "5      Lille  \n",
       "6      Lille  \n",
       "7   Toulouse  \n",
       "8      Paris  \n",
       "9   Toulouse  "
      ]
     },
     "execution_count": 4,
     "metadata": {},
     "output_type": "execute_result"
    }
   ],
   "source": [
    "print(\"Cette base de données contient {0:d} observations \\n\".format(df.shape[0]))\n",
    "print(\"Voici le sommes des valeus manquantes par features : \")\n",
    "print(df.isna().sum())\n",
    "df.head(10)\n"
   ]
  },
  {
   "cell_type": "markdown",
   "metadata": {
    "colab_type": "text",
    "id": "WQfRy0ZuDTzv"
   },
   "source": [
    "### imputation des valeurs manquantes pour la variable \"Experience\" avec : \n",
    "- la valeur médiane pour les data scientists\n",
    "- la valeur moyenne pour les data engineers"
   ]
  },
  {
   "cell_type": "code",
   "execution_count": 5,
   "metadata": {},
   "outputs": [
    {
     "name": "stdout",
     "output_type": "stream",
     "text": [
      "Vérifiation des valeurs manquantes dans Experience : 0.\n",
      "\n"
     ]
    }
   ],
   "source": [
    "import re\n",
    "# convertir les chiffres dans le tableau en float et remplacer les ',' par des '.'\n",
    "df['Experience'] = df['Experience'].apply(lambda x: float(re.sub(\",\", \".\", x)) if isinstance(x, str) else x)\n",
    "\n",
    "\n",
    "# remplire les valeurs manquantes de DE\n",
    "mask_nan_de = df['Metier'] == 'Data engineer'\n",
    "mean_de = df[mask_nan_de]['Experience'].dropna().mean()\n",
    "df.loc[mask_nan_de, 'Experience'] = df.loc[mask_nan_de, 'Experience'].fillna(mean_de)\n",
    "\n",
    "# remplire les valeurs manquantes de DS\n",
    "mask_nan_ds = df['Metier'] == 'Data scientist'\n",
    "median_ds = df[mask_nan_ds]['Experience'].dropna().median()\n",
    "mean_ds = df[mask_nan_ds]['Experience'].dropna().mean()\n",
    "df.loc[mask_nan_ds, 'Experience'] = df.loc[mask_nan_ds, 'Experience'].fillna(median_ds)\n",
    "\n",
    "# remplire les valeurs manquantes de LDS\n",
    "mask_nan_lds = df['Metier'] == 'Lead data scientist'\n",
    "mean_lds = df[mask_nan_lds]['Experience'].dropna().mean()\n",
    "df.loc[mask_nan_lds, 'Experience'] = df.loc[mask_nan_lds, 'Experience'].fillna(mean_lds)\n",
    "\n",
    "# remplire les valeurs manquantes de DA\n",
    "mask_nan_da = df['Metier'] == 'Data architecte'\n",
    "mean_da = df[mask_nan_da]['Experience'].dropna().mean()\n",
    "df.loc[mask_nan_da, 'Experience'] = df.loc[mask_nan_da, 'Experience'].fillna(mean_da)\n",
    "\n",
    "print(\"Vérifiation des valeurs manquantes dans Experience : {0:d}.\\n\".format(df['Experience'].isna().sum()))\n",
    "\n"
   ]
  },
  {
   "cell_type": "markdown",
   "metadata": {
    "colab_type": "text",
    "id": "7t4iWDLTDTzx"
   },
   "source": [
    "### 4) Années d'expériences en moyenne pour chacun des profils : le data scientist, le lead data scientist et le data engineer en moyenne"
   ]
  },
  {
   "cell_type": "code",
   "execution_count": 7,
   "metadata": {},
   "outputs": [
    {
     "name": "stdout",
     "output_type": "stream",
     "text": [
      "Les profils ont en moyenne:\n",
      "\n",
      "Lead data scientist : 3.965261 d'années d'experiences\n",
      "Data architecte     :,3.000476 \n",
      "Data enginner       : 2.984959 \n",
      "Data scientist      : 2.243282 \n"
     ]
    }
   ],
   "source": [
    "print(\"Les profils ont en moyenne:\\n\")\n",
    "print(\"Lead data scientist : {0:f} d'années d'experiences\".format(mean_lds))\n",
    "print(\"Data architecte     : {0:f} \".format(mean_da))\n",
    "print(\"Data enginner       : {0:f} \".format(mean_de))\n",
    "print(\"Data scientist      : {0:f} \".format(mean_ds))"
   ]
  },
  {
   "cell_type": "markdown",
   "metadata": {
    "colab_type": "text",
    "id": "vR-vkCLLDTz0"
   },
   "source": [
    "### 5) Faire la représentation graphique de votre choix afin de comparer le nombre moyen d'années d'expériences pour chaque métier"
   ]
  },
  {
   "cell_type": "code",
   "execution_count": 9,
   "metadata": {
    "colab": {},
    "colab_type": "code",
    "id": "mV7GEaCSDTz1"
   },
   "outputs": [],
   "source": [
    "moy_all = [mean_ds, mean_de, mean_da, mean_lds]\n",
    "\n",
    "def add_percentge(ax, x=0.5, y=0.25, direction='horizontal'):    \n",
    "    totals=[]\n",
    "    if direction=='horizontal':\n",
    "        for i in ax.patches:\n",
    "            totals.append(i.get_width())\n",
    "        total = np.sum(totals)\n",
    "        for i in ax.patches:\n",
    "            str_percentage = str(round((i.get_width()/total)*100,2))+'%'\n",
    "            ax.text(i.get_width()+x, i.get_y()+y, str_percentage, weight='bold', color='black')\n",
    "            \n",
    "    elif direction=='vertical':\n",
    "        for i in ax.patches:\n",
    "            totals.append(i.get_height())\n",
    "        total = np.sum(totals)\n",
    "        for i in ax.patches:\n",
    "            str_percentage = str(round((i.get_height()/total)*100,2))+'%'\n",
    "            ax.text(i.get_x()+x, i.get_height()+y, str_percentage,  weight='bold', color='black')\n",
    "      \n",
    "plt.figure(figsize=(15,20))\n",
    "plt.subplot(311),\n",
    "ax = pd.Series(moy_all, index=df['Metier'].value_counts().keys()).plot(kind='barh')\n",
    "add_percentge(ax, x=-0.4, y=0.25) \n",
    "plt.xlabel(\"Annee d'experiences en moyenne\")\n",
    "\n",
    "# quelques graphes illustratifs\n",
    "plt.subplot(323),\n",
    "#pd.Series(df['Experience'].value_counts().values, df['Experience'].value_counts().keys()).plot.barh()\n",
    "ax = df['Experience'].value_counts().plot(kind='barh')\n",
    "add_percentge(ax), ax.invert_yaxis()\n",
    "plt.xlabel(\"# de profile\")\n",
    "plt.ylabel(\"# d'annee d'experience\")\n",
    "\n",
    "plt.subplot(324),\n",
    "ax=df['Ville'].value_counts().plot(kind='barh')\n",
    "add_percentge(ax) \n",
    "plt.xlabel(\"# de profile\")\n",
    "ax.invert_yaxis()\n",
    "\n",
    "plt.subplot(325),\n",
    "ax = pd.Series(df['Diplome'].value_counts()).plot(kind='barh')\n",
    "add_percentge(ax, x=-600, y=0.25) \n",
    "plt.xlabel(\"# de profile\")\n",
    "ax.invert_yaxis()\n",
    "\n",
    "plt.subplot(326),\n",
    "ax = pd.Series(df['Metier'].value_counts().values, index=df['Metier'].value_counts().keys()).plot.barh()\n",
    "add_percentge(ax, x=-1000.5, y=0.25) \n",
    "plt.xlabel(\"# de profile\")\n",
    "plt.subplots_adjust(wspace=0.3, hspace=0.2)\n",
    "ax.invert_yaxis()\n"
   ]
  },
  {
   "cell_type": "markdown",
   "metadata": {
    "colab_type": "text",
    "id": "pn-XBWMIDTz4"
   },
   "source": [
    "### 6) Transformer la variable continue 'Experience' en une nouvelle variable catégorielle 'Exp_label' à 4 modalités: débutant, confirmé, avancé et expert\n",
    "- Veuillez expliquer votre choix du règle de transformation.  "
   ]
  },
  {
   "cell_type": "code",
   "execution_count": null,
   "metadata": {},
   "outputs": [],
   "source": [
    "Exp_level = pd.cut(df['Experience'], bins=4, labels=(\"Débutant\", \"Confirmé\", \"Avancé\", \"Expert\"))\n",
    "df[\"Exp_level\"] = pd.Series(Exp_level, index=df.index)\n",
    "\n",
    "\n",
    "# Affichage des résultats\n",
    "ax = pd.Series(df['Exp_level'].value_counts().values, index=df['Exp_level'].value_counts().keys()).plot.barh(figsize=(10,7))\n",
    "add_percentge(ax, x=+10.5, y=0.25) \n",
    "plt.xlabel(\"# de profile\")\n",
    "plt.subplots_adjust(wspace=0.3, hspace=0.2)\n",
    "ax.invert_yaxis()"
   ]
  },
  {
   "cell_type": "markdown",
   "metadata": {
    "colab_type": "text",
    "id": "vdCIwoGODTz8"
   },
   "source": [
    "### 7) Quelles sont les 5 technologies les plus utilisées? Faites un graphique"
   ]
  },
  {
   "cell_type": "code",
   "execution_count": null,
   "metadata": {
    "colab": {},
    "colab_type": "code",
    "id": "XgAPiTobDTz9"
   },
   "outputs": [],
   "source": [
    "top_5_tech = df['Technologies'].value_counts()[0:5]\n",
    "print(\"Le top 5 des technologies les plus utilisés sont: \\n\",)\n",
    "print(top_5_tech)\n",
    "print(\"\\n\")\n",
    "\n",
    "# Affichage de résultat\n",
    "ax = top_5_tech.plot(kind='barh', figsize=(10,7))\n",
    "ax.invert_yaxis()\n",
    "plt.xlabel(\"# de profile\")\n"
   ]
  },
  {
   "cell_type": "markdown",
   "metadata": {
    "colab_type": "text",
    "id": "rBb2RYXmDTz_"
   },
   "source": [
    "### 8) Réaliser une méthode de clustering non supervisée de votre choix pour faire apparaître 2 clusters que vous jugerez pertinents. Donnez les caractéristiques de chacun des clusters.\n",
    "-  Justifier la performance de votre algorithme grace à une métrique.\n",
    "-  Interpréter votre resultat.  "
   ]
  },
  {
   "cell_type": "code",
   "execution_count": null,
   "metadata": {},
   "outputs": [],
   "source": [
    "print(\"Avant d'aborder le clustering des données; il est necessaire de coder les chaines de caractetères en pour pouvoir mener le calculs par la suite.\")\n",
    "print(\"\\nAvant: \")\n",
    "print(df.head(10))\n",
    "\n",
    "print(\"\\n Après: \")\n",
    "from sklearn import preprocessing\n",
    "le = preprocessing.LabelEncoder()\n",
    "# df_enc = \n",
    "df_enc = df.loc[:,['Experience']]\n",
    "df_enc['Ville_enc'] = pd.Series(le.fit_transform(np.squeeze(df.loc[:,['Ville']])[:]), index = df_enc.index)\n",
    "df_enc['Technologies_enc'] = pd.Series(le.fit_transform(np.squeeze(df.loc[:,['Technologies']])[:]), index = df_enc.index)\n",
    "df_enc['Diplome_enc'] = pd.Series(le.fit_transform(np.squeeze(df.loc[:,['Diplome']])[:]), index = df_enc.index)\n",
    "df_enc['Exp_level_enc'] = pd.Series(le.fit_transform(np.squeeze(df.loc[:,['Exp_level']])[:]), index = df_enc.index)\n",
    "df_enc = np.round(df_enc,2)\n",
    "print(df_enc.head(10))\n",
    "print(df_enc.info())"
   ]
  },
  {
   "cell_type": "code",
   "execution_count": null,
   "metadata": {
    "colab": {},
    "colab_type": "code",
    "id": "vCx4YCppDT0A"
   },
   "outputs": [],
   "source": [
    "from sklearn.cluster import KMeans\n",
    "from sklearn.mixture import GaussianMixture\n",
    "from sklearn.preprocessing import MinMaxScaler\n",
    "X = df_enc.astype(float)\n",
    "\n",
    "# feature scaling\n",
    "scaler = MinMaxScaler()\n",
    "X_scaled = scaler.fit_transform(X)\n",
    "\n",
    "kmeans = KMeans(n_clusters=2, max_iter = 100, algorithm = 'auto')\n",
    "kmeans.fit(X_scaled)\n",
    "labels_ = kmeans.labels_\n",
    "\n",
    "\n",
    "# Evaluation de l'erreur de clustering\n",
    "c1, c2 = kmeans.cluster_centers_\n",
    "NMSE = lambda a,b: 100 * ((a-b)**2).sum() / ((a)**2).sum()\n",
    "quad_dist1 = NMSE(X_scaled[labels_==0], c1) #NMSE() (X_scaled[y_pred==1]  - c2)**2).sum() / ((X_scaled[y_pred==1] )**2).sum()*100\n",
    "quad_dist2 = NMSE(X_scaled[labels_==1], c2) # (X_scaled[y_pred==0]  - c1)**2).sum() / ((X_scaled[y_pred==0] )**2).sum()*100\n",
    "print('La méthode choisi pour le clustering est K-Means, pour sa simplicité et la connaissance du nombre de cluster')\n",
    "print('La métrique utilisée est l\"erreur moyenne quadratique normalisée par rapports pour chaque cluster: {0:2.2f}% et {1:2.2f} %'.format(quad_dist1, quad_dist2))\n",
    "\n",
    "print(\"les erreurs de clustering obtenus sont < 20% \")\n",
    "print(\" \\n Les caracteristiques imortantes des deux clusters sont le 'Diplome' et l'Experience'. \\\n",
    "      \\n 'Master' & 'Bachelor' pour le premier cluster et 'No diplome' & 'PhD' pour le deuxieme cluster. \\\n",
    "      \\n De plus, le nombre d'Experience des profiles du premier cluster est beaucoup plus élevés par rapport aux profiles du deuxieme cluster. \")\n",
    "print(\"On remarque aussi que deux technologies revient pus souvent dans le cluster 2 qui sont : \")\n",
    "print(df.loc[labels_==0,'Technologies'].value_counts()[0:2])\n",
    "print('Tandis que les technologies sont répartis uniformement pour le premier cluster.')\n",
    "print(\"Le résultats de ce clustering porte un sens tout à fait logique et les figures l'illustre très bien.\")\n",
    "\n",
    "# Affichage des résultats\n",
    "print(\"\\n Affichage des caractéristiques du premier cluster : \\n\")      \n",
    "plt.figure(figsize=(20,30))\n",
    "plt.subplot(521),\n",
    "ax = df_enc.loc[labels_==1,'Experience'].plot(kind='hist', color='#fdb861ff', label='cluster_1')\n",
    "plt.legend()\n",
    "plt.xlabel(\"Experience\")\n",
    "plt.subplot(522),\n",
    "ax = df_enc.loc[labels_==0,'Experience'].plot(kind='hist', color='#5c3a97ff', label='cluster_2')\n",
    "plt.xlabel(\"Experience\")\n",
    "plt.legend()\n",
    "\n",
    "plt.subplot(523),\n",
    "ax = df.loc[labels_==1,'Diplome'].value_counts().plot(kind='bar', color='#fdb861ff', label='cluster_1')\n",
    "plt.legend()\n",
    "plt.subplot(524),\n",
    "ax = df.loc[labels_==0,'Diplome'].value_counts().plot(kind='bar', color='#5c3a97ff', label='cluster_2')\n",
    "plt.ylabel(\"# de profile\")\n",
    "plt.legend()\n",
    "\n",
    "plt.subplot(513),\n",
    "ax = df.loc[labels_==0,'Ville'].value_counts().plot(kind='bar', color = '#5c3a97ff', label='cluster_2')\n",
    "ax = df.loc[labels_==1,'Ville'].value_counts().plot(kind='bar', color = '#fdb861ff', label='cluster_1')\n",
    "plt.ylabel(\"# de profile\")\n",
    "plt.xlabel(\"Ville\")\n",
    "plt.legend()\n",
    "\n",
    "plt.subplot(514),\n",
    "ax = df_enc.loc[labels_==0,'Technologies_enc'].value_counts()[0:5].plot(kind='bar', color = '#5c3a97ff', label='cluster_2')\n",
    "ax = df_enc.loc[labels_==1,'Technologies_enc'].value_counts()[0:5].plot(kind='bar', color = '#fdb861ff', label='cluster_1')\n",
    "plt.ylabel(\"# de profile\")\n",
    "plt.xlabel(\"# Technologie_enc\")\n",
    "plt.legend()\n",
    "\n",
    "\n",
    "\n",
    "plt.subplot(529)\n",
    "ax=df.loc[labels_==1,'Exp_level'].value_counts().plot(kind='bar', color='#fdb861ff', label='cluster_1')\n",
    "plt.subplot(5,2,10)\n",
    "ax=df.loc[labels_==0,'Exp_level'].value_counts().plot(kind='bar', color='#5c3a97ff', label='cluster_2')\n",
    "plt.ylabel(\"# de profile\")\n",
    "\n",
    "\n",
    "plt.subplots_adjust(hspace=0.3)\n",
    "\n"
   ]
  },
  {
   "cell_type": "markdown",
   "metadata": {
    "colab_type": "text",
    "id": "SMslRwndDT0C"
   },
   "source": [
    "### 9) Réaliser la prédiction des métiers manquants dans la base de données par l'algorithme de votre choix\n",
    "-  Justifier la performance de votre algorithme grace à une métrique.\n",
    "-  Interpréter votre resultat.  "
   ]
  },
  {
   "cell_type": "code",
   "execution_count": null,
   "metadata": {},
   "outputs": [],
   "source": [
    "from sklearn.linear_model import LogisticRegressionCV\n",
    "from sklearn import model_selection\n",
    "from sklearn.metrics import classification_report, accuracy_score, confusion_matrix\n",
    "\n",
    "mask_metier = df.loc[:,'Metier'].isna() \n",
    "X = np.array(df_enc[~mask_metier])\n",
    "y = le.fit_transform(df.loc[~mask_metier,'Metier'].dropna())\n",
    "Metier_test = np.array(df_enc[mask_metier])\n",
    "\n",
    "\n",
    "X_train, X_test, y_train, y_test = model_selection.train_test_split(X, y, test_size=.25, shuffle=True, random_state=40)\n",
    "\n",
    "clf = LogisticRegressionCV(cv=5, random_state=0, max_iter=400, multi_class='multinomial').fit(X_train, y_train)\n",
    "\n",
    "# training a DescisionTreeClassifier \n",
    "from sklearn.tree import DecisionTreeClassifier \n",
    "dtree_model = DecisionTreeClassifier(max_depth = 2).fit(X_train, y_train) \n",
    "dtree_predictions = dtree_model.predict(X_test) \n",
    "cm = confusion_matrix(y_test, dtree_predictions) \n",
    "\n",
    "y_predicted = clf.predict(X_test)\n",
    "print('Precision de classification est de: '+str(np.round(accuracy_score(y_test, y_predicted),2)*100)+'%   \\n')\n",
    "print(classification_report(y_test, y_predicted))"
   ]
  },
  {
   "cell_type": "code",
   "execution_count": null,
   "metadata": {},
   "outputs": [],
   "source": [
    "print(str(accuracy_score(y_test, y_predicted)*100)+'%')"
   ]
  },
  {
   "cell_type": "code",
   "execution_count": null,
   "metadata": {},
   "outputs": [],
   "source": [
    "cm = confusion_matrix(y_test, y_predicted) \n",
    "cm"
   ]
  },
  {
   "cell_type": "code",
   "execution_count": null,
   "metadata": {},
   "outputs": [],
   "source": [
    "df.loc[~mask_metier, 'Metier_predicted'] = df.loc[:,'Metier']\n",
    "df.loc[mask_metier, 'Metier_predicted'] = le.inverse_transform(metier_predicted)\n",
    "print(\"Le résultat de prediction des métiers manquants est obtenu à l'aide d'une classification des données avec une regression logistique multi-class:\\n\")\n",
    "df[mask_metier]"
   ]
  },
  {
   "cell_type": "code",
   "execution_count": null,
   "metadata": {},
   "outputs": [],
   "source": []
  },
  {
   "cell_type": "code",
   "execution_count": null,
   "metadata": {},
   "outputs": [],
   "source": []
  },
  {
   "cell_type": "code",
   "execution_count": null,
   "metadata": {},
   "outputs": [],
   "source": []
  },
  {
   "cell_type": "code",
   "execution_count": null,
   "metadata": {},
   "outputs": [],
   "source": []
  }
 ],
 "metadata": {
  "colab": {
   "name": "Test Technique Aquila - ML.ipynb",
   "provenance": [],
   "version": "0.3.2"
  },
  "kernelspec": {
   "display_name": "Python 3",
   "language": "python",
   "name": "python3"
  },
  "language_info": {
   "codemirror_mode": {
    "name": "ipython",
    "version": 3
   },
   "file_extension": ".py",
   "mimetype": "text/x-python",
   "name": "python",
   "nbconvert_exporter": "python",
   "pygments_lexer": "ipython3",
   "version": "3.7.1"
  }
 },
 "nbformat": 4,
 "nbformat_minor": 2
}
